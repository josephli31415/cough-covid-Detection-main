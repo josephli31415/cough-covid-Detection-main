{
 "cells": [
  {
   "cell_type": "code",
   "execution_count": 20,
   "metadata": {},
   "outputs": [],
   "source": [
    "import os\n",
    "from datetime import datetime\n",
    "import pandas as pd\n",
    "import numpy as np\n",
    "from tqdm.auto import tqdm\n",
    "from sklearn.preprocessing import LabelEncoder, StandardScaler\n",
    "from sklearn.model_selection import train_test_split\n",
    "from sklearn.metrics import confusion_matrix\n",
    "import matplotlib.pyplot as plt\n",
    "import torch\n",
    "from torch.utils.tensorboard import SummaryWriter\n",
    "from utils import plot_confusion_matrix\n",
    "device = torch.device('cuda' if torch.cuda.is_available() else 'cpu')"
   ]
  },
  {
   "cell_type": "code",
   "execution_count": 21,
   "metadata": {},
   "outputs": [],
   "source": [
    "hparams = {    \n",
    "    'dataset': 'data/prepared_data_balanced.csv',\n",
    "    'epochs': 15,\n",
    "    'batch_size': 16,\n",
    "    'lr': 1e-3,\n",
    "    'features': [\n",
    "        'chroma_stft', 'rmse', 'spectral_centroid', 'spectral_bandwidth', 'rolloff', 'zero_crossing_rate',\n",
    "        'mfcc1', 'mfcc2', 'mfcc3', 'mfcc4', 'mfcc5', 'mfcc6', 'mfcc7', 'mfcc8', 'mfcc9', 'mfcc10', \n",
    "        'mfcc11', 'mfcc12', 'mfcc13', 'mfcc14', 'mfcc15', 'mfcc16', 'mfcc17', 'mfcc18', 'mfcc19', 'mfcc20'\n",
    "    ]\n",
    "}"
   ]
  },
  {
   "cell_type": "code",
   "execution_count": 22,
   "metadata": {},
   "outputs": [
    {
     "name": "stdout",
     "output_type": "stream",
     "text": [
      "classes: ['covid' 'not_covid']\n",
      "X_train.shape: (107, 26)\n",
      "y_train.shape: (107,)\n"
     ]
    }
   ],
   "source": [
    "df_features = pd.read_csv(hparams['dataset'])\n",
    "X = np.array(df_features[hparams['features']], dtype=np.float32)\n",
    "encoder = LabelEncoder()\n",
    "y = encoder.fit_transform(df_features['label'])\n",
    "print('classes:', encoder.classes_)\n",
    "X_train, X_test, y_train, y_test = train_test_split(X, y, test_size=0.2, random_state=42)\n",
    "scaler = StandardScaler()\n",
    "X_train = scaler.fit_transform(X_train)\n",
    "X_test = scaler.transform(X_test)\n",
    "print('X_train.shape:', X_train.shape)\n",
    "print('y_train.shape:', y_train.shape)\n",
    "torch.manual_seed(42)\n",
    "train_dataset = torch.utils.data.TensorDataset(torch.Tensor(X_train), torch.Tensor(y_train).long())\n",
    "test_dataset = torch.utils.data.TensorDataset(torch.Tensor(X_test), torch.Tensor(y_test).long())\n",
    "train_loader = torch.utils.data.DataLoader(dataset=train_dataset, batch_size=hparams['batch_size'], shuffle=True)\n",
    "test_loader = torch.utils.data.DataLoader(dataset=test_dataset, batch_size=hparams['batch_size'], shuffle=False)"
   ]
  },
  {
   "cell_type": "code",
   "execution_count": 23,
   "metadata": {},
   "outputs": [],
   "source": [
    "class CoughNet(torch.nn.Module):\n",
    "    def __init__(self, input_size):\n",
    "        super(CoughNet, self).__init__()\n",
    "        self.l1 = torch.nn.Linear(input_size, 512)\n",
    "        self.l2 = torch.nn.Linear(512, 256)\n",
    "        self.l3 = torch.nn.Linear(256, 128)\n",
    "        self.l4 = torch.nn.Linear(128, 64)\n",
    "        self.l5 = torch.nn.Linear(64, 10)\n",
    "        self.l6 = torch.nn.Linear(10, 2)\n",
    "    def forward(self, x):\n",
    "        x = torch.relu(self.l1(x))\n",
    "        x = torch.relu(self.l2(x))\n",
    "        x = torch.relu(self.l3(x))\n",
    "        x = torch.relu(self.l4(x))\n",
    "        x = torch.relu(self.l5(x))\n",
    "        x = self.l6(x)\n",
    "        return x\n",
    "model = CoughNet(len(hparams['features'])).to(device)"
   ]
  },
  {
   "cell_type": "code",
   "execution_count": 24,
   "metadata": {
    "tags": []
   },
   "outputs": [
    {
     "name": "stderr",
     "output_type": "stream",
     "text": [
      "[Training Epoch 1]: 100%|██████████| 7/7 [00:00<00:00, 303.20it/s, loss=0.0449, train_accuracy=0.533]\n",
      "[Evaluating Epoch 1]: 100%|██████████| 2/2 [00:00<00:00, 878.39it/s, loss=0.0512, eval_accuracy=0.37]\n",
      "[Training Epoch 2]: 100%|██████████| 7/7 [00:00<00:00, 483.82it/s, loss=0.0426, train_accuracy=0.757]\n",
      "[Evaluating Epoch 2]: 100%|██████████| 2/2 [00:00<00:00, 813.01it/s, loss=0.0436, eval_accuracy=0.852]\n",
      "[Training Epoch 3]: 100%|██████████| 7/7 [00:00<00:00, 428.58it/s, loss=0.0361, train_accuracy=0.86]\n",
      "[Evaluating Epoch 3]: 100%|██████████| 2/2 [00:00<00:00, 737.72it/s, loss=0.0298, eval_accuracy=0.852]\n",
      "[Training Epoch 4]: 100%|██████████| 7/7 [00:00<00:00, 450.65it/s, loss=0.0269, train_accuracy=0.888]\n",
      "[Evaluating Epoch 4]: 100%|██████████| 2/2 [00:00<00:00, 709.70it/s, loss=0.0191, eval_accuracy=0.963]\n",
      "[Training Epoch 5]: 100%|██████████| 7/7 [00:00<00:00, 440.45it/s, loss=0.0188, train_accuracy=0.907]\n",
      "[Evaluating Epoch 5]: 100%|██████████| 2/2 [00:00<00:00, 958.26it/s, loss=0.0144, eval_accuracy=0.963]\n",
      "[Training Epoch 6]: 100%|██████████| 7/7 [00:00<00:00, 456.38it/s, loss=0.0153, train_accuracy=0.925]\n",
      "[Evaluating Epoch 6]: 100%|██████████| 2/2 [00:00<00:00, 641.04it/s, loss=0.00858, eval_accuracy=0.963]\n",
      "[Training Epoch 7]: 100%|██████████| 7/7 [00:00<00:00, 444.39it/s, loss=0.0126, train_accuracy=0.925]\n",
      "[Evaluating Epoch 7]: 100%|██████████| 2/2 [00:00<00:00, 878.85it/s, loss=0.00861, eval_accuracy=0.963]\n",
      "[Training Epoch 8]: 100%|██████████| 7/7 [00:00<00:00, 431.14it/s, loss=0.00854, train_accuracy=0.953]\n",
      "[Evaluating Epoch 8]: 100%|██████████| 2/2 [00:00<00:00, 863.91it/s, loss=0.0164, eval_accuracy=0.926]\n",
      "[Training Epoch 9]: 100%|██████████| 7/7 [00:00<00:00, 393.94it/s, loss=0.00642, train_accuracy=0.972]\n",
      "[Evaluating Epoch 9]: 100%|██████████| 2/2 [00:00<00:00, 933.73it/s, loss=0.00842, eval_accuracy=1]\n",
      "[Training Epoch 10]: 100%|██████████| 7/7 [00:00<00:00, 478.83it/s, loss=0.00412, train_accuracy=0.991]\n",
      "[Evaluating Epoch 10]: 100%|██████████| 2/2 [00:00<00:00, 836.10it/s, loss=0.0126, eval_accuracy=0.963]\n",
      "[Training Epoch 11]: 100%|██████████| 7/7 [00:00<00:00, 461.83it/s, loss=0.00623, train_accuracy=0.963]\n",
      "[Evaluating Epoch 11]: 100%|██████████| 2/2 [00:00<00:00, 1008.49it/s, loss=0.00449, eval_accuracy=0.963]\n",
      "[Training Epoch 12]: 100%|██████████| 7/7 [00:00<00:00, 442.46it/s, loss=0.00222, train_accuracy=1]\n",
      "[Evaluating Epoch 12]: 100%|██████████| 2/2 [00:00<00:00, 835.35it/s, loss=0.00243, eval_accuracy=1]\n",
      "[Training Epoch 13]: 100%|██████████| 7/7 [00:00<00:00, 446.68it/s, loss=0.00103, train_accuracy=1]\n",
      "[Evaluating Epoch 13]: 100%|██████████| 2/2 [00:00<00:00, 755.25it/s, loss=0.00283, eval_accuracy=1]\n",
      "[Training Epoch 14]: 100%|██████████| 7/7 [00:00<00:00, 433.30it/s, loss=0.000664, train_accuracy=1]\n",
      "[Evaluating Epoch 14]: 100%|██████████| 2/2 [00:00<00:00, 805.13it/s, loss=0.00134, eval_accuracy=1]\n",
      "[Training Epoch 15]: 100%|██████████| 7/7 [00:00<00:00, 489.85it/s, loss=0.000387, train_accuracy=1]\n",
      "[Evaluating Epoch 15]: 100%|██████████| 2/2 [00:00<00:00, 931.86it/s, loss=0.00112, eval_accuracy=1]\n"
     ]
    }
   ],
   "source": [
    "optimizer = torch.optim.Adam(model.parameters(), lr=hparams['lr'])\n",
    "criterion = torch.nn.CrossEntropyLoss()\n",
    "def train(loader_train, model, optimizer, epoch):\n",
    "    model.train()\n",
    "    running_loss = 0.0\n",
    "    running_correct = 0.0\n",
    "    total = 0\n",
    "    pbar = tqdm(enumerate(loader_train), total=len(loader_train))\n",
    "    for batch_ndx, sample in pbar: \n",
    "        features, labels = sample[0].to(device), sample[1].to(device) \n",
    "        outputs = model(features)\n",
    "        loss = criterion(outputs, labels)      \n",
    "        loss.backward()\n",
    "        optimizer.step()\n",
    "        optimizer.zero_grad()\n",
    "        running_loss += loss.item()\n",
    "        predictions = torch.argmax(outputs.data, 1)\n",
    "        running_correct += (predictions == labels).sum().item()\n",
    "        pbar.set_description(f'[Training Epoch {epoch+1}]') \n",
    "        total += labels.shape[0]\n",
    "        pbar.set_postfix({'loss': running_loss / total, 'train_accuracy': running_correct / total})\n",
    "    writer.add_scalar('Loss/Train', running_loss / total, epoch+1)\n",
    "    writer.add_scalar('Accuracy/Train', running_correct / total, epoch+1)\n",
    "def evaluate(loader_test, model, epoch):\n",
    "    model.eval()\n",
    "    running_loss = 0.0\n",
    "    running_correct = 0.0\n",
    "    total = 0\n",
    "    with torch.no_grad():\n",
    "        pbar = tqdm(enumerate(loader_test), total=len(loader_test))\n",
    "        for batch_ndx, sample in pbar:\n",
    "            features, labels = sample[0].to(device), sample[1].to(device) \n",
    "            outputs = model(features)\n",
    "            loss = criterion(outputs, labels)  \n",
    "            running_loss += loss.item()\n",
    "            predictions = torch.argmax(outputs.data, 1)\n",
    "            running_correct += (predictions == labels).sum().item()\n",
    "            pbar.set_description(f'[Evaluating Epoch {epoch+1}]')\n",
    "            total += labels.shape[0]\n",
    "            pbar.set_postfix({'loss': running_loss / total, 'eval_accuracy': running_correct / total})\n",
    "    writer.add_scalar('Loss/Eval', running_loss / total, epoch+1)\n",
    "    writer.add_scalar('Accuracy/Eval', running_correct / total, epoch+1)\n",
    "time_stamp = datetime.now().strftime('%Y%m%d-%H%M%S')\n",
    "writer = SummaryWriter(f'logs/{time_stamp}/')\n",
    "for features, _ in test_loader:\n",
    "    writer.add_graph(model, features)\n",
    "    break  \n",
    "for epoch in range(hparams['epochs']):\n",
    "    train(train_loader, model, optimizer, epoch)\n",
    "    evaluate(test_loader, model, epoch)\n",
    "writer.close()"
   ]
  },
  {
   "cell_type": "code",
   "execution_count": 30,
   "metadata": {},
   "outputs": [
    {
     "data": {
      "image/png": "[encoded data removed]",
      "text/plain": [
       "<Figure size 640x480 with 2 Axes>"
      ]
     },
     "metadata": {},
     "output_type": "display_data"
    }
   ],
   "source": [
    "def plot_confusion_matrix(targets, predictions, classes):\n",
    "    cm = confusion_matrix(targets, predictions)\n",
    "    cm = cm.astype(float) / cm.sum(axis=1)[:, np.newaxis]\n",
    "    plt.imshow(cm, interpolation='nearest', cmap=plt.cm.Blues)\n",
    "    plt.title('Confusion Matrix')\n",
    "    plt.colorbar()\n",
    "    tick_marks = np.arange(len(classes))\n",
    "    plt.xticks(tick_marks, classes, rotation=45)\n",
    "    plt.yticks(tick_marks, classes)\n",
    "    plt.ylabel('True label')\n",
    "    plt.xlabel('Predicted label')\n",
    "    plt.show()\n",
    "\n",
    "def inference(loader_test, model):\n",
    "    model.eval()\n",
    "    predictions = []\n",
    "    targets = []\n",
    "    with torch.no_grad():\n",
    "        for features, labels in loader_test:\n",
    "            features, labels = features.to(device), labels.to(device)\n",
    "            outputs = model(features)\n",
    "            predicted = torch.argmax(outputs, dim=1)\n",
    "            predictions.extend(predicted.tolist())\n",
    "            targets.extend(labels.tolist())\n",
    "    return predictions, targets\n",
    "predictions, targets = inference(test_loader, model)\n",
    "plot_confusion_matrix(targets, predictions, encoder.classes_)"
   ]
  },
  {
   "cell_type": "code",
   "execution_count": 27,
   "metadata": {},
   "outputs": [],
   "source": [
    "checkpoint = {\n",
    "    'hparams': hparams,\n",
    "    'model_state': model.state_dict(),\n",
    "    'scaler': scaler,\n",
    "    'encoder': encoder\n",
    "}\n",
    "torch.save(checkpoint, 'checkpoints/checkpoint.pth')"
   ]
  },
  {
   "cell_type": "code",
   "execution_count": 29,
   "metadata": {},
   "outputs": [
    {
     "name": "stdout",
     "output_type": "stream",
     "text": [
      "Accuracy: 1.0\n"
     ]
    }
   ],
   "source": [
    "predictions = np.array(predictions)\n",
    "targets = np.array(targets)\n",
    "accuracy = (predictions == targets).mean()\n",
    "print(f\"Accuracy: {accuracy}\")"
   ]
  },
  {
   "cell_type": "code",
   "execution_count": null,
   "metadata": {},
   "outputs": [],
   "source": []
  }
 ],
 "metadata": {
  "kernelspec": {
   "display_name": "Python 3 (ipykernel)",
   "language": "python",
   "name": "python3"
  },
  "language_info": {
   "codemirror_mode": {
    "name": "ipython",
    "version": 3
   },
   "file_extension": ".py",
   "mimetype": "text/x-python",
   "name": "python",
   "nbconvert_exporter": "python",
   "pygments_lexer": "ipython3",
   "version": "3.12.0"
  }
 },
 "nbformat": 4,
 "nbformat_minor": 2
}
